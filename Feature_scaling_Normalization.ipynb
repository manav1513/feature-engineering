{
 "cells": [
  {
   "cell_type": "code",
   "execution_count": 1,
   "id": "3e98d53f-beae-4620-baa7-fa950411550c",
   "metadata": {},
   "outputs": [],
   "source": [
    "import numpy as np\n",
    "import pandas as pd\n",
    "import seaborn as sn"
   ]
  },
  {
   "cell_type": "code",
   "execution_count": 2,
   "id": "58e55d65-d8e0-43ea-ba2a-3021a697546c",
   "metadata": {},
   "outputs": [],
   "source": [
    "df = sn.load_dataset(\"titanic\")"
   ]
  },
  {
   "cell_type": "code",
   "execution_count": 31,
   "id": "7a8b6e7e-3c09-4656-9f23-ac2f0ff39459",
   "metadata": {},
   "outputs": [],
   "source": [
    "df = df.iloc[:,1:]"
   ]
  },
  {
   "cell_type": "code",
   "execution_count": 30,
   "id": "e79aa776-ba8e-4dcc-a0a7-b5c9ddf843b9",
   "metadata": {},
   "outputs": [
    {
     "data": {
      "text/html": [
       "<div>\n",
       "<style scoped>\n",
       "    .dataframe tbody tr th:only-of-type {\n",
       "        vertical-align: middle;\n",
       "    }\n",
       "\n",
       "    .dataframe tbody tr th {\n",
       "        vertical-align: top;\n",
       "    }\n",
       "\n",
       "    .dataframe thead th {\n",
       "        text-align: right;\n",
       "    }\n",
       "</style>\n",
       "<table border=\"1\" class=\"dataframe\">\n",
       "  <thead>\n",
       "    <tr style=\"text-align: right;\">\n",
       "      <th></th>\n",
       "      <th>pclass</th>\n",
       "      <th>sex</th>\n",
       "      <th>age</th>\n",
       "      <th>sibsp</th>\n",
       "      <th>parch</th>\n",
       "      <th>fare</th>\n",
       "      <th>embarked</th>\n",
       "      <th>class</th>\n",
       "      <th>who</th>\n",
       "      <th>adult_male</th>\n",
       "      <th>deck</th>\n",
       "      <th>embark_town</th>\n",
       "      <th>alive</th>\n",
       "      <th>alone</th>\n",
       "    </tr>\n",
       "  </thead>\n",
       "  <tbody>\n",
       "    <tr>\n",
       "      <th>2</th>\n",
       "      <td>3</td>\n",
       "      <td>female</td>\n",
       "      <td>26.0</td>\n",
       "      <td>0</td>\n",
       "      <td>0</td>\n",
       "      <td>7.925</td>\n",
       "      <td>S</td>\n",
       "      <td>Third</td>\n",
       "      <td>woman</td>\n",
       "      <td>False</td>\n",
       "      <td>NaN</td>\n",
       "      <td>Southampton</td>\n",
       "      <td>yes</td>\n",
       "      <td>True</td>\n",
       "    </tr>\n",
       "    <tr>\n",
       "      <th>4</th>\n",
       "      <td>3</td>\n",
       "      <td>male</td>\n",
       "      <td>35.0</td>\n",
       "      <td>0</td>\n",
       "      <td>0</td>\n",
       "      <td>8.050</td>\n",
       "      <td>S</td>\n",
       "      <td>Third</td>\n",
       "      <td>man</td>\n",
       "      <td>True</td>\n",
       "      <td>NaN</td>\n",
       "      <td>Southampton</td>\n",
       "      <td>no</td>\n",
       "      <td>True</td>\n",
       "    </tr>\n",
       "  </tbody>\n",
       "</table>\n",
       "</div>"
      ],
      "text/plain": [
       "   pclass     sex   age  sibsp  parch   fare embarked  class    who  \\\n",
       "2       3  female  26.0      0      0  7.925        S  Third  woman   \n",
       "4       3    male  35.0      0      0  8.050        S  Third    man   \n",
       "\n",
       "   adult_male deck  embark_town alive  alone  \n",
       "2       False  NaN  Southampton   yes   True  \n",
       "4        True  NaN  Southampton    no   True  "
      ]
     },
     "execution_count": 30,
     "metadata": {},
     "output_type": "execute_result"
    }
   ],
   "source": [
    "df.head()"
   ]
  },
  {
   "cell_type": "code",
   "execution_count": 37,
   "id": "53ba6779-7f57-4330-9aed-9d5c63e6ac2f",
   "metadata": {},
   "outputs": [
    {
     "data": {
      "text/plain": [
       "(891, 15)"
      ]
     },
     "execution_count": 37,
     "metadata": {},
     "output_type": "execute_result"
    }
   ],
   "source": [
    "df.shape"
   ]
  },
  {
   "cell_type": "code",
   "execution_count": 34,
   "id": "bd59c971-bc3d-4a0a-9ef5-539d5b72fabf",
   "metadata": {},
   "outputs": [],
   "source": [
    "import matplotlib.pyplot as plt"
   ]
  },
  {
   "cell_type": "code",
   "execution_count": 42,
   "id": "16e945e2-c5fb-4953-ac9c-e79278bffeb5",
   "metadata": {},
   "outputs": [
    {
     "data": {
      "text/plain": [
       "<matplotlib.collections.PathCollection at 0x7efe4c326200>"
      ]
     },
     "execution_count": 42,
     "metadata": {},
     "output_type": "execute_result"
    },
    {
     "data": {
      "image/png": "[encoded data removed]",
      "text/plain": [
       "<Figure size 640x480 with 1 Axes>"
      ]
     },
     "metadata": {},
     "output_type": "display_data"
    }
   ],
   "source": [
    " plt.scatter(df['pclass'],df['age'] , c=df['fare'])"
   ]
  },
  {
   "cell_type": "code",
   "execution_count": 3,
   "id": "a22b2a97-d623-4794-8fac-36da1ca741bc",
   "metadata": {},
   "outputs": [],
   "source": [
    "tips = sn.load_dataset(\"tips\")"
   ]
  },
  {
   "cell_type": "code",
   "execution_count": 4,
   "id": "ef1da042-b6f3-4d02-b3a0-caa6183f6708",
   "metadata": {},
   "outputs": [
    {
     "data": {
      "text/html": [
       "<div>\n",
       "<style scoped>\n",
       "    .dataframe tbody tr th:only-of-type {\n",
       "        vertical-align: middle;\n",
       "    }\n",
       "\n",
       "    .dataframe tbody tr th {\n",
       "        vertical-align: top;\n",
       "    }\n",
       "\n",
       "    .dataframe thead th {\n",
       "        text-align: right;\n",
       "    }\n",
       "</style>\n",
       "<table border=\"1\" class=\"dataframe\">\n",
       "  <thead>\n",
       "    <tr style=\"text-align: right;\">\n",
       "      <th></th>\n",
       "      <th>total_bill</th>\n",
       "      <th>tip</th>\n",
       "      <th>sex</th>\n",
       "      <th>smoker</th>\n",
       "      <th>day</th>\n",
       "      <th>time</th>\n",
       "      <th>size</th>\n",
       "    </tr>\n",
       "  </thead>\n",
       "  <tbody>\n",
       "    <tr>\n",
       "      <th>0</th>\n",
       "      <td>16.99</td>\n",
       "      <td>1.01</td>\n",
       "      <td>Female</td>\n",
       "      <td>No</td>\n",
       "      <td>Sun</td>\n",
       "      <td>Dinner</td>\n",
       "      <td>2</td>\n",
       "    </tr>\n",
       "    <tr>\n",
       "      <th>1</th>\n",
       "      <td>10.34</td>\n",
       "      <td>1.66</td>\n",
       "      <td>Male</td>\n",
       "      <td>No</td>\n",
       "      <td>Sun</td>\n",
       "      <td>Dinner</td>\n",
       "      <td>3</td>\n",
       "    </tr>\n",
       "    <tr>\n",
       "      <th>2</th>\n",
       "      <td>21.01</td>\n",
       "      <td>3.50</td>\n",
       "      <td>Male</td>\n",
       "      <td>No</td>\n",
       "      <td>Sun</td>\n",
       "      <td>Dinner</td>\n",
       "      <td>3</td>\n",
       "    </tr>\n",
       "    <tr>\n",
       "      <th>3</th>\n",
       "      <td>23.68</td>\n",
       "      <td>3.31</td>\n",
       "      <td>Male</td>\n",
       "      <td>No</td>\n",
       "      <td>Sun</td>\n",
       "      <td>Dinner</td>\n",
       "      <td>2</td>\n",
       "    </tr>\n",
       "    <tr>\n",
       "      <th>4</th>\n",
       "      <td>24.59</td>\n",
       "      <td>3.61</td>\n",
       "      <td>Female</td>\n",
       "      <td>No</td>\n",
       "      <td>Sun</td>\n",
       "      <td>Dinner</td>\n",
       "      <td>4</td>\n",
       "    </tr>\n",
       "  </tbody>\n",
       "</table>\n",
       "</div>"
      ],
      "text/plain": [
       "   total_bill   tip     sex smoker  day    time  size\n",
       "0       16.99  1.01  Female     No  Sun  Dinner     2\n",
       "1       10.34  1.66    Male     No  Sun  Dinner     3\n",
       "2       21.01  3.50    Male     No  Sun  Dinner     3\n",
       "3       23.68  3.31    Male     No  Sun  Dinner     2\n",
       "4       24.59  3.61  Female     No  Sun  Dinner     4"
      ]
     },
     "execution_count": 4,
     "metadata": {},
     "output_type": "execute_result"
    }
   ],
   "source": [
    "tips.head()"
   ]
  },
  {
   "cell_type": "code",
   "execution_count": 6,
   "id": "4da26bb7-b6ec-45c3-9117-bc059a0b571c",
   "metadata": {},
   "outputs": [],
   "source": [
    "mean = np.mean(tips['total_bill'])"
   ]
  },
  {
   "cell_type": "code",
   "execution_count": 7,
   "id": "d121776d-6a87-4032-a0d6-acf02d59e9a3",
   "metadata": {},
   "outputs": [],
   "source": [
    "std = np.std(tips[\"total_bill\"])"
   ]
  },
  {
   "cell_type": "code",
   "execution_count": 8,
   "id": "726abfff-5651-4efe-859b-d6443a769243",
   "metadata": {},
   "outputs": [],
   "source": [
    "df = tips['total_bill']"
   ]
  },
  {
   "cell_type": "code",
   "execution_count": 10,
   "id": "71a079b8-601d-4250-814e-d54a91bf08cf",
   "metadata": {},
   "outputs": [],
   "source": [
    "import pandas as pd"
   ]
  },
  {
   "cell_type": "code",
   "execution_count": 11,
   "id": "6ec2d1e1-34d0-419e-95be-f5ee5d25e99c",
   "metadata": {},
   "outputs": [
    {
     "data": {
      "text/html": [
       "<div>\n",
       "<style scoped>\n",
       "    .dataframe tbody tr th:only-of-type {\n",
       "        vertical-align: middle;\n",
       "    }\n",
       "\n",
       "    .dataframe tbody tr th {\n",
       "        vertical-align: top;\n",
       "    }\n",
       "\n",
       "    .dataframe thead th {\n",
       "        text-align: right;\n",
       "    }\n",
       "</style>\n",
       "<table border=\"1\" class=\"dataframe\">\n",
       "  <thead>\n",
       "    <tr style=\"text-align: right;\">\n",
       "      <th></th>\n",
       "      <th>total_bill</th>\n",
       "    </tr>\n",
       "  </thead>\n",
       "  <tbody>\n",
       "    <tr>\n",
       "      <th>0</th>\n",
       "      <td>16.99</td>\n",
       "    </tr>\n",
       "    <tr>\n",
       "      <th>1</th>\n",
       "      <td>10.34</td>\n",
       "    </tr>\n",
       "    <tr>\n",
       "      <th>2</th>\n",
       "      <td>21.01</td>\n",
       "    </tr>\n",
       "    <tr>\n",
       "      <th>3</th>\n",
       "      <td>23.68</td>\n",
       "    </tr>\n",
       "    <tr>\n",
       "      <th>4</th>\n",
       "      <td>24.59</td>\n",
       "    </tr>\n",
       "    <tr>\n",
       "      <th>...</th>\n",
       "      <td>...</td>\n",
       "    </tr>\n",
       "    <tr>\n",
       "      <th>239</th>\n",
       "      <td>29.03</td>\n",
       "    </tr>\n",
       "    <tr>\n",
       "      <th>240</th>\n",
       "      <td>27.18</td>\n",
       "    </tr>\n",
       "    <tr>\n",
       "      <th>241</th>\n",
       "      <td>22.67</td>\n",
       "    </tr>\n",
       "    <tr>\n",
       "      <th>242</th>\n",
       "      <td>17.82</td>\n",
       "    </tr>\n",
       "    <tr>\n",
       "      <th>243</th>\n",
       "      <td>18.78</td>\n",
       "    </tr>\n",
       "  </tbody>\n",
       "</table>\n",
       "<p>244 rows × 1 columns</p>\n",
       "</div>"
      ],
      "text/plain": [
       "     total_bill\n",
       "0         16.99\n",
       "1         10.34\n",
       "2         21.01\n",
       "3         23.68\n",
       "4         24.59\n",
       "..          ...\n",
       "239       29.03\n",
       "240       27.18\n",
       "241       22.67\n",
       "242       17.82\n",
       "243       18.78\n",
       "\n",
       "[244 rows x 1 columns]"
      ]
     },
     "execution_count": 11,
     "metadata": {},
     "output_type": "execute_result"
    }
   ],
   "source": [
    "pd.DataFrame(df)"
   ]
  },
  {
   "cell_type": "code",
   "execution_count": 12,
   "id": "0d3793da-f49e-42b3-84ab-302477508c3d",
   "metadata": {},
   "outputs": [
    {
     "data": {
      "text/plain": [
       "(19.78594262295082, 8.88415057777113)"
      ]
     },
     "execution_count": 12,
     "metadata": {},
     "output_type": "execute_result"
    }
   ],
   "source": [
    "mean,std"
   ]
  },
  {
   "cell_type": "code",
   "execution_count": 14,
   "id": "a6fb72df-345a-41e6-b081-93c7c89dc71d",
   "metadata": {},
   "outputs": [
    {
     "name": "stdout",
     "output_type": "stream",
     "text": [
      "[-0.31471130509049433, -1.0632353132988694, 0.13777989987156147, 0.4383151031672548, 0.5407447042905061, 0.6195367051545456, -1.2399545152367868, 0.7985071071171497, -0.5342033074974615, -0.5634689078183904, -1.0711145133852735, 1.7417599174609368, -0.49143050702841135, -0.1526249033130415, -0.5578409077566732, 0.20193910057513614, -1.0643609133112129, -0.39350330595453376, -0.31696250511518115, 0.09725829942719796, -0.21003050394255576, 0.05673669898283485, -0.4520345065963916, 2.2100095225958007, 0.0038334984026941687, -0.22241210407833373, -0.7221785095588128, -0.7987193103981655, 0.2154463007232573, -0.01530170180714419, -1.1521577142739996, -0.16162970341178867, -0.5319521074727744, 0.10176069947657196, -0.22578890411536373, 0.4810879036363047, -0.39125210592984694, -0.3214649051645547, -0.12335930299211235, 1.2926455125359118, -0.4216433062631193, -0.26180810451035325, -0.6580193088552377, -1.1375249141135353, 1.1947183114620339, -0.16838330348584946, 0.27510310137745875, 1.4198383139307182, 0.9864823091785012, -0.196523303794435, -0.8156033105833168, -1.0688633133605867, 1.6911079169054832, -1.1082593137926064, 0.649927905487818, -0.03331130200463895, 2.0512999208553775, 0.7456039065370089, -0.9619313121879615, 3.2061655335197288, 0.05673669898283485, -0.6726521090157022, -0.9866945124595169, -0.16838330348584946, -0.24717530434988888, 0.033099098723622905, -0.375493705757039, -1.881546522272537, 0.04998309890877447, -0.5375801075344916, -0.8741345112251747, -0.30570650499174673, 0.7962559070924629, 0.6184111051422024, -0.5690969078801074, -1.0441001130890313, -0.21003050394255576, 0.8345263075121392, 0.33475990203166023, -0.28094330472019163, -0.038939302066355735, -0.35185610549782703, -1.093626513632142, 1.4513551142763341, -0.4283969063371797, 1.6933591169301696, -0.7604489099784891, -0.16950890349819264, 0.5542519044386274, 0.15466390005671263, 1.0337575096969247, 0.30436870169838753, -1.5798857189645, -0.39012650591750336, 0.33363430201931665, 2.2944295235215573, 0.8435311076108867, -0.8730089112128313, 0.13777989987156147, -0.824608110682064, -0.949549712052184, -0.4959329070777849, 2.75930232861939, 0.29648950161198395, 0.12764949976047069, -0.4981841071024719, 0.0792486992297032, 0.6105319050557985, -0.17401130354756664, -0.6163721083985311, -0.6512657087811772, -1.4110457171129867, 2.0580535209294384, 0.46870630350052717, 0.6668119056729696, -0.2786921046955048, 1.1418151108818932, -1.0283417129162233, -0.8279849107190944, 0.48333910366099153, -0.9112793116325076, -0.7165505094970956, -0.6220001084602482, -0.4317737063742101, -0.8223569106573773, 1.127182310721429, -1.2680945155453722, -0.5927345081393193, -0.9461729120151535, 0.3415135021057206, -0.07946090251071924, 0.054485498958148054, -0.9698105122743655, -0.8471201109289326, -0.17176010352287946, -1.2692201155577156, -1.0643609133112129, -0.6343817085960258, -0.4261457063124929, -0.7458161098180246, -0.26068250449801006, 1.6337023162759683, 2.409240724780586, 0.817642307326988, -0.3777449057817258, -1.2872297157552104, -0.12898730305382955, -0.8910185114103261, -1.1262689139901012, -1.3817801167920578, -0.6433865086947732, -0.7491929098550548, -0.2843201047572216, 0.5362423042411326, -0.001794501659023019, 1.1328103107831462, 3.1949095333962942, 0.5868943047965864, -0.7199273095341259, -0.3709913057076654, 0.19293430047638896, -0.8020961104351957, -0.40250810605328097, -0.6726521090157022, -0.25618010444863604, 0.5328655042041022, 0.10963989956297594, 1.3421719130790224, -1.035095312990284, -1.0305929129409102, 3.4920679366549576, -0.44753210654701786, -1.4110457171129867, 1.3579303132518303, -0.3338465053003323, 1.4761183145478893, -0.21340730397958615, -0.5972369081886929, -1.1465297142122828, 1.6708471166833017, 1.673098316707988, 0.3989191027352349, 2.8774903299154495, 0.38090950253774053, 2.337202323990607, 0.10176069947657196, 0.1253982997357835, 1.2014719115360948, -0.18414170365865742, 0.37303030245133656, -0.461039306695139, 0.002707898390350571, 0.9741007090427236, -0.4846769069543508, -0.36086090559657463, -1.3761521167303408, -1.0632353132988694, 2.625355927150523, -0.7638257100155194, -0.7064201093860049, -0.12110810296742555, -0.7930913103364483, -0.7638257100155194, -0.3811217058187562, 0.08375109927907719, -0.3732425057323522, 0.7658647067591905, 2.132343121744104, 0.5047255038955166, -0.7908401103117615, 1.1564479110423576, 0.687072705895151, 3.212919133593789, -0.733434509682247, 0.9437095087094514, -0.7750817101389536, 0.9414583086847641, -0.9225353117559418, -1.355891316508159, 1.1654527111411053, -0.8583761110523668, -0.7165505094970956, -1.2613409154713116, -0.4283969063371797, -0.7165505094970956, -0.39575450597922057, -1.091375313607455, 0.07474629918032961, -0.7323089096699036, 0.2627215012416812, 0.47545990357458795, -0.461039306695139, -0.920284111731255, -1.0148345127681024, -0.4790489068926338, -1.093626513632142, -0.8088497105092562, 1.4682391144614853, 1.8059191181645118, 1.0405111097709856, 0.8322751074874524, 0.32462950192056944, -0.22128650406599013, -0.11322890288102158]\n"
     ]
    }
   ],
   "source": [
    "nor = []\n",
    "for i in df:\n",
    "    z_score = (i - mean) / std\n",
    "    nor.append(z_score)\n",
    "    \n",
    "print(nor)"
   ]
  },
  {
   "cell_type": "code",
   "execution_count": 15,
   "id": "45ea4879-4d8c-42c9-ab28-9a0f282bac46",
   "metadata": {},
   "outputs": [
    {
     "data": {
      "text/plain": [
       "<AxesSubplot: ylabel='Count'>"
      ]
     },
     "execution_count": 15,
     "metadata": {},
     "output_type": "execute_result"
    },
    {
     "data": {
      "image/png": "[encoded data removed]",
      "text/plain": [
       "<Figure size 640x480 with 1 Axes>"
      ]
     },
     "metadata": {},
     "output_type": "display_data"
    }
   ],
   "source": [
    "sn.histplot()"
   ]
  },
  {
   "cell_type": "code",
   "execution_count": 16,
   "id": "64c26ecf-397f-4519-98e2-9228eb9ad650",
   "metadata": {},
   "outputs": [
    {
     "data": {
      "text/plain": [
       "<AxesSubplot: ylabel='Count'>"
      ]
     },
     "execution_count": 16,
     "metadata": {},
     "output_type": "execute_result"
    },
    {
     "data": {
      "image/png": "[encoded data removed]",
      "text/plain": [
       "<Figure size 640x480 with 1 Axes>"
      ]
     },
     "metadata": {},
     "output_type": "display_data"
    }
   ],
   "source": [
    "sn.histplot(nor)"
   ]
  },
  {
   "cell_type": "code",
   "execution_count": 17,
   "id": "93723f3b-1e75-40af-8e0e-1d1d85a3d5b4",
   "metadata": {},
   "outputs": [
    {
     "data": {
      "text/plain": [
       "<AxesSubplot: xlabel='total_bill', ylabel='Count'>"
      ]
     },
     "execution_count": 17,
     "metadata": {},
     "output_type": "execute_result"
    },
    {
     "data": {
      "image/png": "[encoded data removed]",
      "text/plain": [
       "<Figure size 640x480 with 1 Axes>"
      ]
     },
     "metadata": {},
     "output_type": "display_data"
    }
   ],
   "source": [
    "sn.histplot(df)"
   ]
  },
  {
   "cell_type": "code",
   "execution_count": 18,
   "id": "d20c5283-1a84-4240-9db6-4e89df835e1f",
   "metadata": {},
   "outputs": [],
   "source": [
    "from sklearn.preprocessing import StandardScaler"
   ]
  },
  {
   "cell_type": "code",
   "execution_count": 22,
   "id": "b71e1388-0146-4f6d-a850-ede50125251b",
   "metadata": {},
   "outputs": [],
   "source": [
    "s = StandardScaler()"
   ]
  },
  {
   "cell_type": "code",
   "execution_count": 23,
   "id": "fa2bebdf-0b80-4606-936b-52536e6983ef",
   "metadata": {},
   "outputs": [
    {
     "data": {
      "text/html": [
       "<style>#sk-container-id-2 {color: black;background-color: white;}#sk-container-id-2 pre{padding: 0;}#sk-container-id-2 div.sk-toggleable {background-color: white;}#sk-container-id-2 label.sk-toggleable__label {cursor: pointer;display: block;width: 100%;margin-bottom: 0;padding: 0.3em;box-sizing: border-box;text-align: center;}#sk-container-id-2 label.sk-toggleable__label-arrow:before {content: \"▸\";float: left;margin-right: 0.25em;color: #696969;}#sk-container-id-2 label.sk-toggleable__label-arrow:hover:before {color: black;}#sk-container-id-2 div.sk-estimator:hover label.sk-toggleable__label-arrow:before {color: black;}#sk-container-id-2 div.sk-toggleable__content {max-height: 0;max-width: 0;overflow: hidden;text-align: left;background-color: #f0f8ff;}#sk-container-id-2 div.sk-toggleable__content pre {margin: 0.2em;color: black;border-radius: 0.25em;background-color: #f0f8ff;}#sk-container-id-2 input.sk-toggleable__control:checked~div.sk-toggleable__content {max-height: 200px;max-width: 100%;overflow: auto;}#sk-container-id-2 input.sk-toggleable__control:checked~label.sk-toggleable__label-arrow:before {content: \"▾\";}#sk-container-id-2 div.sk-estimator input.sk-toggleable__control:checked~label.sk-toggleable__label {background-color: #d4ebff;}#sk-container-id-2 div.sk-label input.sk-toggleable__control:checked~label.sk-toggleable__label {background-color: #d4ebff;}#sk-container-id-2 input.sk-hidden--visually {border: 0;clip: rect(1px 1px 1px 1px);clip: rect(1px, 1px, 1px, 1px);height: 1px;margin: -1px;overflow: hidden;padding: 0;position: absolute;width: 1px;}#sk-container-id-2 div.sk-estimator {font-family: monospace;background-color: #f0f8ff;border: 1px dotted black;border-radius: 0.25em;box-sizing: border-box;margin-bottom: 0.5em;}#sk-container-id-2 div.sk-estimator:hover {background-color: #d4ebff;}#sk-container-id-2 div.sk-parallel-item::after {content: \"\";width: 100%;border-bottom: 1px solid gray;flex-grow: 1;}#sk-container-id-2 div.sk-label:hover label.sk-toggleable__label {background-color: #d4ebff;}#sk-container-id-2 div.sk-serial::before {content: \"\";position: absolute;border-left: 1px solid gray;box-sizing: border-box;top: 0;bottom: 0;left: 50%;z-index: 0;}#sk-container-id-2 div.sk-serial {display: flex;flex-direction: column;align-items: center;background-color: white;padding-right: 0.2em;padding-left: 0.2em;position: relative;}#sk-container-id-2 div.sk-item {position: relative;z-index: 1;}#sk-container-id-2 div.sk-parallel {display: flex;align-items: stretch;justify-content: center;background-color: white;position: relative;}#sk-container-id-2 div.sk-item::before, #sk-container-id-2 div.sk-parallel-item::before {content: \"\";position: absolute;border-left: 1px solid gray;box-sizing: border-box;top: 0;bottom: 0;left: 50%;z-index: -1;}#sk-container-id-2 div.sk-parallel-item {display: flex;flex-direction: column;z-index: 1;position: relative;background-color: white;}#sk-container-id-2 div.sk-parallel-item:first-child::after {align-self: flex-end;width: 50%;}#sk-container-id-2 div.sk-parallel-item:last-child::after {align-self: flex-start;width: 50%;}#sk-container-id-2 div.sk-parallel-item:only-child::after {width: 0;}#sk-container-id-2 div.sk-dashed-wrapped {border: 1px dashed gray;margin: 0 0.4em 0.5em 0.4em;box-sizing: border-box;padding-bottom: 0.4em;background-color: white;}#sk-container-id-2 div.sk-label label {font-family: monospace;font-weight: bold;display: inline-block;line-height: 1.2em;}#sk-container-id-2 div.sk-label-container {text-align: center;}#sk-container-id-2 div.sk-container {/* jupyter's `normalize.less` sets `[hidden] { display: none; }` but bootstrap.min.css set `[hidden] { display: none !important; }` so we also need the `!important` here to be able to override the default hidden behavior on the sphinx rendered scikit-learn.org. See: https://github.com/scikit-learn/scikit-learn/issues/21755 */display: inline-block !important;position: relative;}#sk-container-id-2 div.sk-text-repr-fallback {display: none;}</style><div id=\"sk-container-id-2\" class=\"sk-top-container\"><div class=\"sk-text-repr-fallback\"><pre>StandardScaler()</pre><b>In a Jupyter environment, please rerun this cell to show the HTML representation or trust the notebook. <br />On GitHub, the HTML representation is unable to render, please try loading this page with nbviewer.org.</b></div><div class=\"sk-container\" hidden><div class=\"sk-item\"><div class=\"sk-estimator sk-toggleable\"><input class=\"sk-toggleable__control sk-hidden--visually\" id=\"sk-estimator-id-2\" type=\"checkbox\" checked><label for=\"sk-estimator-id-2\" class=\"sk-toggleable__label sk-toggleable__label-arrow\">StandardScaler</label><div class=\"sk-toggleable__content\"><pre>StandardScaler()</pre></div></div></div></div></div>"
      ],
      "text/plain": [
       "StandardScaler()"
      ]
     },
     "execution_count": 23,
     "metadata": {},
     "output_type": "execute_result"
    }
   ],
   "source": [
    "s"
   ]
  },
  {
   "cell_type": "code",
   "execution_count": 24,
   "id": "927c5d4e-ffb2-4de1-85be-5965b93cf36f",
   "metadata": {},
   "outputs": [
    {
     "data": {
      "text/plain": [
       "sklearn.preprocessing._data.StandardScaler"
      ]
     },
     "execution_count": 24,
     "metadata": {},
     "output_type": "execute_result"
    }
   ],
   "source": [
    "type(s)"
   ]
  },
  {
   "cell_type": "code",
   "execution_count": 33,
   "id": "d9690b32-2ac7-4d47-a8b1-4131940c72a3",
   "metadata": {},
   "outputs": [],
   "source": [
    "a = s.fit(tips[['total_bill', 'size']])"
   ]
  },
  {
   "cell_type": "code",
   "execution_count": 34,
   "id": "c0f97394-932c-4be8-a58e-2d6e0c1e317d",
   "metadata": {},
   "outputs": [
    {
     "data": {
      "text/html": [
       "<style>#sk-container-id-6 {color: black;background-color: white;}#sk-container-id-6 pre{padding: 0;}#sk-container-id-6 div.sk-toggleable {background-color: white;}#sk-container-id-6 label.sk-toggleable__label {cursor: pointer;display: block;width: 100%;margin-bottom: 0;padding: 0.3em;box-sizing: border-box;text-align: center;}#sk-container-id-6 label.sk-toggleable__label-arrow:before {content: \"▸\";float: left;margin-right: 0.25em;color: #696969;}#sk-container-id-6 label.sk-toggleable__label-arrow:hover:before {color: black;}#sk-container-id-6 div.sk-estimator:hover label.sk-toggleable__label-arrow:before {color: black;}#sk-container-id-6 div.sk-toggleable__content {max-height: 0;max-width: 0;overflow: hidden;text-align: left;background-color: #f0f8ff;}#sk-container-id-6 div.sk-toggleable__content pre {margin: 0.2em;color: black;border-radius: 0.25em;background-color: #f0f8ff;}#sk-container-id-6 input.sk-toggleable__control:checked~div.sk-toggleable__content {max-height: 200px;max-width: 100%;overflow: auto;}#sk-container-id-6 input.sk-toggleable__control:checked~label.sk-toggleable__label-arrow:before {content: \"▾\";}#sk-container-id-6 div.sk-estimator input.sk-toggleable__control:checked~label.sk-toggleable__label {background-color: #d4ebff;}#sk-container-id-6 div.sk-label input.sk-toggleable__control:checked~label.sk-toggleable__label {background-color: #d4ebff;}#sk-container-id-6 input.sk-hidden--visually {border: 0;clip: rect(1px 1px 1px 1px);clip: rect(1px, 1px, 1px, 1px);height: 1px;margin: -1px;overflow: hidden;padding: 0;position: absolute;width: 1px;}#sk-container-id-6 div.sk-estimator {font-family: monospace;background-color: #f0f8ff;border: 1px dotted black;border-radius: 0.25em;box-sizing: border-box;margin-bottom: 0.5em;}#sk-container-id-6 div.sk-estimator:hover {background-color: #d4ebff;}#sk-container-id-6 div.sk-parallel-item::after {content: \"\";width: 100%;border-bottom: 1px solid gray;flex-grow: 1;}#sk-container-id-6 div.sk-label:hover label.sk-toggleable__label {background-color: #d4ebff;}#sk-container-id-6 div.sk-serial::before {content: \"\";position: absolute;border-left: 1px solid gray;box-sizing: border-box;top: 0;bottom: 0;left: 50%;z-index: 0;}#sk-container-id-6 div.sk-serial {display: flex;flex-direction: column;align-items: center;background-color: white;padding-right: 0.2em;padding-left: 0.2em;position: relative;}#sk-container-id-6 div.sk-item {position: relative;z-index: 1;}#sk-container-id-6 div.sk-parallel {display: flex;align-items: stretch;justify-content: center;background-color: white;position: relative;}#sk-container-id-6 div.sk-item::before, #sk-container-id-6 div.sk-parallel-item::before {content: \"\";position: absolute;border-left: 1px solid gray;box-sizing: border-box;top: 0;bottom: 0;left: 50%;z-index: -1;}#sk-container-id-6 div.sk-parallel-item {display: flex;flex-direction: column;z-index: 1;position: relative;background-color: white;}#sk-container-id-6 div.sk-parallel-item:first-child::after {align-self: flex-end;width: 50%;}#sk-container-id-6 div.sk-parallel-item:last-child::after {align-self: flex-start;width: 50%;}#sk-container-id-6 div.sk-parallel-item:only-child::after {width: 0;}#sk-container-id-6 div.sk-dashed-wrapped {border: 1px dashed gray;margin: 0 0.4em 0.5em 0.4em;box-sizing: border-box;padding-bottom: 0.4em;background-color: white;}#sk-container-id-6 div.sk-label label {font-family: monospace;font-weight: bold;display: inline-block;line-height: 1.2em;}#sk-container-id-6 div.sk-label-container {text-align: center;}#sk-container-id-6 div.sk-container {/* jupyter's `normalize.less` sets `[hidden] { display: none; }` but bootstrap.min.css set `[hidden] { display: none !important; }` so we also need the `!important` here to be able to override the default hidden behavior on the sphinx rendered scikit-learn.org. See: https://github.com/scikit-learn/scikit-learn/issues/21755 */display: inline-block !important;position: relative;}#sk-container-id-6 div.sk-text-repr-fallback {display: none;}</style><div id=\"sk-container-id-6\" class=\"sk-top-container\"><div class=\"sk-text-repr-fallback\"><pre>StandardScaler()</pre><b>In a Jupyter environment, please rerun this cell to show the HTML representation or trust the notebook. <br />On GitHub, the HTML representation is unable to render, please try loading this page with nbviewer.org.</b></div><div class=\"sk-container\" hidden><div class=\"sk-item\"><div class=\"sk-estimator sk-toggleable\"><input class=\"sk-toggleable__control sk-hidden--visually\" id=\"sk-estimator-id-6\" type=\"checkbox\" checked><label for=\"sk-estimator-id-6\" class=\"sk-toggleable__label sk-toggleable__label-arrow\">StandardScaler</label><div class=\"sk-toggleable__content\"><pre>StandardScaler()</pre></div></div></div></div></div>"
      ],
      "text/plain": [
       "StandardScaler()"
      ]
     },
     "execution_count": 34,
     "metadata": {},
     "output_type": "execute_result"
    }
   ],
   "source": [
    "a"
   ]
  },
  {
   "cell_type": "code",
   "execution_count": 37,
   "id": "c6c731c5-d1a3-4aa4-903b-a1bdae816c57",
   "metadata": {},
   "outputs": [
    {
     "data": {
      "text/plain": [
       "0      16.99\n",
       "1      10.34\n",
       "2      21.01\n",
       "3      23.68\n",
       "4      24.59\n",
       "       ...  \n",
       "239    29.03\n",
       "240    27.18\n",
       "241    22.67\n",
       "242    17.82\n",
       "243    18.78\n",
       "Name: total_bill, Length: 244, dtype: float64"
      ]
     },
     "execution_count": 37,
     "metadata": {},
     "output_type": "execute_result"
    }
   ],
   "source": [
    "tips['total_bill']"
   ]
  },
  {
   "cell_type": "code",
   "execution_count": 38,
   "id": "471b4854-f304-4c5c-8da2-e59326b11433",
   "metadata": {},
   "outputs": [
    {
     "data": {
      "text/html": [
       "<div>\n",
       "<style scoped>\n",
       "    .dataframe tbody tr th:only-of-type {\n",
       "        vertical-align: middle;\n",
       "    }\n",
       "\n",
       "    .dataframe tbody tr th {\n",
       "        vertical-align: top;\n",
       "    }\n",
       "\n",
       "    .dataframe thead th {\n",
       "        text-align: right;\n",
       "    }\n",
       "</style>\n",
       "<table border=\"1\" class=\"dataframe\">\n",
       "  <thead>\n",
       "    <tr style=\"text-align: right;\">\n",
       "      <th></th>\n",
       "      <th>total_bill</th>\n",
       "      <th>tip</th>\n",
       "      <th>sex</th>\n",
       "      <th>smoker</th>\n",
       "      <th>day</th>\n",
       "      <th>time</th>\n",
       "      <th>size</th>\n",
       "    </tr>\n",
       "  </thead>\n",
       "  <tbody>\n",
       "    <tr>\n",
       "      <th>0</th>\n",
       "      <td>16.99</td>\n",
       "      <td>1.01</td>\n",
       "      <td>Female</td>\n",
       "      <td>No</td>\n",
       "      <td>Sun</td>\n",
       "      <td>Dinner</td>\n",
       "      <td>2</td>\n",
       "    </tr>\n",
       "    <tr>\n",
       "      <th>1</th>\n",
       "      <td>10.34</td>\n",
       "      <td>1.66</td>\n",
       "      <td>Male</td>\n",
       "      <td>No</td>\n",
       "      <td>Sun</td>\n",
       "      <td>Dinner</td>\n",
       "      <td>3</td>\n",
       "    </tr>\n",
       "    <tr>\n",
       "      <th>2</th>\n",
       "      <td>21.01</td>\n",
       "      <td>3.50</td>\n",
       "      <td>Male</td>\n",
       "      <td>No</td>\n",
       "      <td>Sun</td>\n",
       "      <td>Dinner</td>\n",
       "      <td>3</td>\n",
       "    </tr>\n",
       "    <tr>\n",
       "      <th>3</th>\n",
       "      <td>23.68</td>\n",
       "      <td>3.31</td>\n",
       "      <td>Male</td>\n",
       "      <td>No</td>\n",
       "      <td>Sun</td>\n",
       "      <td>Dinner</td>\n",
       "      <td>2</td>\n",
       "    </tr>\n",
       "    <tr>\n",
       "      <th>4</th>\n",
       "      <td>24.59</td>\n",
       "      <td>3.61</td>\n",
       "      <td>Female</td>\n",
       "      <td>No</td>\n",
       "      <td>Sun</td>\n",
       "      <td>Dinner</td>\n",
       "      <td>4</td>\n",
       "    </tr>\n",
       "    <tr>\n",
       "      <th>...</th>\n",
       "      <td>...</td>\n",
       "      <td>...</td>\n",
       "      <td>...</td>\n",
       "      <td>...</td>\n",
       "      <td>...</td>\n",
       "      <td>...</td>\n",
       "      <td>...</td>\n",
       "    </tr>\n",
       "    <tr>\n",
       "      <th>239</th>\n",
       "      <td>29.03</td>\n",
       "      <td>5.92</td>\n",
       "      <td>Male</td>\n",
       "      <td>No</td>\n",
       "      <td>Sat</td>\n",
       "      <td>Dinner</td>\n",
       "      <td>3</td>\n",
       "    </tr>\n",
       "    <tr>\n",
       "      <th>240</th>\n",
       "      <td>27.18</td>\n",
       "      <td>2.00</td>\n",
       "      <td>Female</td>\n",
       "      <td>Yes</td>\n",
       "      <td>Sat</td>\n",
       "      <td>Dinner</td>\n",
       "      <td>2</td>\n",
       "    </tr>\n",
       "    <tr>\n",
       "      <th>241</th>\n",
       "      <td>22.67</td>\n",
       "      <td>2.00</td>\n",
       "      <td>Male</td>\n",
       "      <td>Yes</td>\n",
       "      <td>Sat</td>\n",
       "      <td>Dinner</td>\n",
       "      <td>2</td>\n",
       "    </tr>\n",
       "    <tr>\n",
       "      <th>242</th>\n",
       "      <td>17.82</td>\n",
       "      <td>1.75</td>\n",
       "      <td>Male</td>\n",
       "      <td>No</td>\n",
       "      <td>Sat</td>\n",
       "      <td>Dinner</td>\n",
       "      <td>2</td>\n",
       "    </tr>\n",
       "    <tr>\n",
       "      <th>243</th>\n",
       "      <td>18.78</td>\n",
       "      <td>3.00</td>\n",
       "      <td>Female</td>\n",
       "      <td>No</td>\n",
       "      <td>Thur</td>\n",
       "      <td>Dinner</td>\n",
       "      <td>2</td>\n",
       "    </tr>\n",
       "  </tbody>\n",
       "</table>\n",
       "<p>244 rows × 7 columns</p>\n",
       "</div>"
      ],
      "text/plain": [
       "     total_bill   tip     sex smoker   day    time  size\n",
       "0         16.99  1.01  Female     No   Sun  Dinner     2\n",
       "1         10.34  1.66    Male     No   Sun  Dinner     3\n",
       "2         21.01  3.50    Male     No   Sun  Dinner     3\n",
       "3         23.68  3.31    Male     No   Sun  Dinner     2\n",
       "4         24.59  3.61  Female     No   Sun  Dinner     4\n",
       "..          ...   ...     ...    ...   ...     ...   ...\n",
       "239       29.03  5.92    Male     No   Sat  Dinner     3\n",
       "240       27.18  2.00  Female    Yes   Sat  Dinner     2\n",
       "241       22.67  2.00    Male    Yes   Sat  Dinner     2\n",
       "242       17.82  1.75    Male     No   Sat  Dinner     2\n",
       "243       18.78  3.00  Female     No  Thur  Dinner     2\n",
       "\n",
       "[244 rows x 7 columns]"
      ]
     },
     "execution_count": 38,
     "metadata": {},
     "output_type": "execute_result"
    }
   ],
   "source": [
    "tips"
   ]
  },
  {
   "cell_type": "code",
   "execution_count": 40,
   "id": "317aebab-77d3-426c-9a96-0e0cce17b899",
   "metadata": {},
   "outputs": [
    {
     "data": {
      "text/plain": [
       "array([[-3.14711305e-01, -6.00192629e-01],\n",
       "       [-1.06323531e+00,  4.53382921e-01],\n",
       "       [ 1.37779900e-01,  4.53382921e-01],\n",
       "       [ 4.38315103e-01, -6.00192629e-01],\n",
       "       [ 5.40744704e-01,  1.50695847e+00],\n",
       "       [ 6.19536705e-01,  1.50695847e+00],\n",
       "       [-1.23995452e+00, -6.00192629e-01],\n",
       "       [ 7.98507107e-01,  1.50695847e+00],\n",
       "       [-5.34203307e-01, -6.00192629e-01],\n",
       "       [-5.63468908e-01, -6.00192629e-01],\n",
       "       [-1.07111451e+00, -6.00192629e-01],\n",
       "       [ 1.74175992e+00,  1.50695847e+00],\n",
       "       [-4.91430507e-01, -6.00192629e-01],\n",
       "       [-1.52624903e-01,  1.50695847e+00],\n",
       "       [-5.57840908e-01, -6.00192629e-01],\n",
       "       [ 2.01939101e-01, -6.00192629e-01],\n",
       "       [-1.06436091e+00,  4.53382921e-01],\n",
       "       [-3.93503306e-01,  4.53382921e-01],\n",
       "       [-3.16962505e-01,  4.53382921e-01],\n",
       "       [ 9.72582994e-02,  4.53382921e-01],\n",
       "       [-2.10030504e-01, -6.00192629e-01],\n",
       "       [ 5.67366990e-02, -6.00192629e-01],\n",
       "       [-4.52034507e-01, -6.00192629e-01],\n",
       "       [ 2.21000952e+00,  1.50695847e+00],\n",
       "       [ 3.83349840e-03, -6.00192629e-01],\n",
       "       [-2.22412104e-01,  1.50695847e+00],\n",
       "       [-7.22178510e-01, -6.00192629e-01],\n",
       "       [-7.98719310e-01, -6.00192629e-01],\n",
       "       [ 2.15446301e-01, -6.00192629e-01],\n",
       "       [-1.53017018e-02, -6.00192629e-01],\n",
       "       [-1.15215771e+00, -6.00192629e-01],\n",
       "       [-1.61629703e-01,  1.50695847e+00],\n",
       "       [-5.31952107e-01, -6.00192629e-01],\n",
       "       [ 1.01760699e-01,  1.50695847e+00],\n",
       "       [-2.25788904e-01, -6.00192629e-01],\n",
       "       [ 4.81087904e-01,  4.53382921e-01],\n",
       "       [-3.91252106e-01,  4.53382921e-01],\n",
       "       [-3.21464905e-01,  4.53382921e-01],\n",
       "       [-1.23359303e-01,  4.53382921e-01],\n",
       "       [ 1.29264551e+00,  4.53382921e-01],\n",
       "       [-4.21643306e-01,  4.53382921e-01],\n",
       "       [-2.61808105e-01, -6.00192629e-01],\n",
       "       [-6.58019309e-01, -6.00192629e-01],\n",
       "       [-1.13752491e+00, -6.00192629e-01],\n",
       "       [ 1.19471831e+00,  1.50695847e+00],\n",
       "       [-1.68383303e-01, -6.00192629e-01],\n",
       "       [ 2.75103101e-01, -6.00192629e-01],\n",
       "       [ 1.41983831e+00,  1.50695847e+00],\n",
       "       [ 9.86482309e-01,  4.53382921e-01],\n",
       "       [-1.96523304e-01, -6.00192629e-01],\n",
       "       [-8.15603311e-01, -6.00192629e-01],\n",
       "       [-1.06886331e+00, -6.00192629e-01],\n",
       "       [ 1.69110792e+00,  1.50695847e+00],\n",
       "       [-1.10825931e+00, -6.00192629e-01],\n",
       "       [ 6.49927905e-01,  1.50695847e+00],\n",
       "       [-3.33113020e-02, -6.00192629e-01],\n",
       "       [ 2.05129992e+00,  1.50695847e+00],\n",
       "       [ 7.45603907e-01, -6.00192629e-01],\n",
       "       [-9.61931312e-01, -6.00192629e-01],\n",
       "       [ 3.20616553e+00,  1.50695847e+00],\n",
       "       [ 5.67366990e-02, -6.00192629e-01],\n",
       "       [-6.72652109e-01, -6.00192629e-01],\n",
       "       [-9.86694512e-01, -6.00192629e-01],\n",
       "       [-1.68383303e-01,  1.50695847e+00],\n",
       "       [-2.47175304e-01,  4.53382921e-01],\n",
       "       [ 3.30990987e-02,  4.53382921e-01],\n",
       "       [-3.75493706e-01, -6.00192629e-01],\n",
       "       [-1.88154652e+00, -1.65376818e+00],\n",
       "       [ 4.99830989e-02, -6.00192629e-01],\n",
       "       [-5.37580108e-01, -6.00192629e-01],\n",
       "       [-8.74134511e-01, -6.00192629e-01],\n",
       "       [-3.05706505e-01,  4.53382921e-01],\n",
       "       [ 7.96255907e-01, -6.00192629e-01],\n",
       "       [ 6.18411105e-01, -6.00192629e-01],\n",
       "       [-5.69096908e-01, -6.00192629e-01],\n",
       "       [-1.04410011e+00, -6.00192629e-01],\n",
       "       [-2.10030504e-01, -6.00192629e-01],\n",
       "       [ 8.34526308e-01,  1.50695847e+00],\n",
       "       [ 3.34759902e-01, -6.00192629e-01],\n",
       "       [-2.80943305e-01, -6.00192629e-01],\n",
       "       [-3.89393021e-02, -6.00192629e-01],\n",
       "       [-3.51856105e-01, -6.00192629e-01],\n",
       "       [-1.09362651e+00, -1.65376818e+00],\n",
       "       [ 1.45135511e+00, -6.00192629e-01],\n",
       "       [-4.28396906e-01, -6.00192629e-01],\n",
       "       [ 1.69335912e+00,  1.50695847e+00],\n",
       "       [-7.60448910e-01, -6.00192629e-01],\n",
       "       [-1.69508903e-01, -6.00192629e-01],\n",
       "       [ 5.54251904e-01, -6.00192629e-01],\n",
       "       [ 1.54663900e-01, -6.00192629e-01],\n",
       "       [ 1.03375751e+00, -6.00192629e-01],\n",
       "       [ 3.04368702e-01, -6.00192629e-01],\n",
       "       [-1.57988572e+00, -6.00192629e-01],\n",
       "       [-3.90126506e-01, -6.00192629e-01],\n",
       "       [ 3.33634302e-01, -6.00192629e-01],\n",
       "       [ 2.29442952e+00,  1.50695847e+00],\n",
       "       [ 8.43531108e-01, -6.00192629e-01],\n",
       "       [-8.73008911e-01, -6.00192629e-01],\n",
       "       [ 1.37779900e-01, -6.00192629e-01],\n",
       "       [-8.24608111e-01, -6.00192629e-01],\n",
       "       [-9.49549712e-01, -6.00192629e-01],\n",
       "       [-4.95932907e-01, -6.00192629e-01],\n",
       "       [ 2.75930233e+00,  4.53382921e-01],\n",
       "       [ 2.96489502e-01, -6.00192629e-01],\n",
       "       [ 1.27649500e-01, -6.00192629e-01],\n",
       "       [-4.98184107e-01, -6.00192629e-01],\n",
       "       [ 7.92486992e-02, -6.00192629e-01],\n",
       "       [ 6.10531905e-01, -6.00192629e-01],\n",
       "       [-1.74011304e-01, -6.00192629e-01],\n",
       "       [-6.16372108e-01, -6.00192629e-01],\n",
       "       [-6.51265709e-01, -6.00192629e-01],\n",
       "       [-1.41104572e+00, -1.65376818e+00],\n",
       "       [ 2.05805352e+00,  4.53382921e-01],\n",
       "       [ 4.68706304e-01, -6.00192629e-01],\n",
       "       [ 6.66811906e-01,  4.53382921e-01],\n",
       "       [-2.78692105e-01, -6.00192629e-01],\n",
       "       [ 1.14181511e+00,  1.50695847e+00],\n",
       "       [-1.02834171e+00, -6.00192629e-01],\n",
       "       [-8.27984911e-01, -6.00192629e-01],\n",
       "       [ 4.83339104e-01,  1.50695847e+00],\n",
       "       [-9.11279312e-01, -6.00192629e-01],\n",
       "       [-7.16550509e-01, -6.00192629e-01],\n",
       "       [-6.22000108e-01, -6.00192629e-01],\n",
       "       [-4.31773706e-01, -6.00192629e-01],\n",
       "       [-8.22356911e-01, -6.00192629e-01],\n",
       "       [ 1.12718231e+00,  3.61410957e+00],\n",
       "       [-1.26809452e+00, -6.00192629e-01],\n",
       "       [-5.92734508e-01, -6.00192629e-01],\n",
       "       [-9.46172912e-01, -6.00192629e-01],\n",
       "       [ 3.41513502e-01,  4.53382921e-01],\n",
       "       [-7.94609025e-02, -6.00192629e-01],\n",
       "       [ 5.44854990e-02, -6.00192629e-01],\n",
       "       [-9.69810512e-01, -6.00192629e-01],\n",
       "       [-8.47120111e-01, -6.00192629e-01],\n",
       "       [-1.71760104e-01, -6.00192629e-01],\n",
       "       [-1.26922012e+00, -6.00192629e-01],\n",
       "       [-1.06436091e+00, -6.00192629e-01],\n",
       "       [-6.34381709e-01, -6.00192629e-01],\n",
       "       [-4.26145706e-01, -6.00192629e-01],\n",
       "       [-7.45816110e-01, -6.00192629e-01],\n",
       "       [-2.60682504e-01, -6.00192629e-01],\n",
       "       [ 1.63370232e+00,  3.61410957e+00],\n",
       "       [ 2.40924072e+00,  2.56053402e+00],\n",
       "       [ 8.17642307e-01,  3.61410957e+00],\n",
       "       [-3.77744906e-01, -6.00192629e-01],\n",
       "       [-1.28722972e+00, -6.00192629e-01],\n",
       "       [-1.28987303e-01,  4.53382921e-01],\n",
       "       [-8.91018511e-01, -6.00192629e-01],\n",
       "       [-1.12626891e+00, -6.00192629e-01],\n",
       "       [-1.38178012e+00, -6.00192629e-01],\n",
       "       [-6.43386509e-01, -6.00192629e-01],\n",
       "       [-7.49192910e-01, -6.00192629e-01],\n",
       "       [-2.84320105e-01,  4.53382921e-01],\n",
       "       [ 5.36242304e-01,  1.50695847e+00],\n",
       "       [-1.79450166e-03,  1.50695847e+00],\n",
       "       [ 1.13281031e+00,  2.56053402e+00],\n",
       "       [ 3.19490953e+00,  3.61410957e+00],\n",
       "       [ 5.86894305e-01,  1.50695847e+00],\n",
       "       [-7.19927310e-01, -6.00192629e-01],\n",
       "       [-3.70991306e-01,  1.50695847e+00],\n",
       "       [ 1.92934300e-01,  1.50695847e+00],\n",
       "       [-8.02096110e-01, -6.00192629e-01],\n",
       "       [-4.02508106e-01,  4.53382921e-01],\n",
       "       [-6.72652109e-01, -6.00192629e-01],\n",
       "       [-2.56180104e-01, -6.00192629e-01],\n",
       "       [ 5.32865504e-01,  4.53382921e-01],\n",
       "       [ 1.09639900e-01, -6.00192629e-01],\n",
       "       [ 1.34217191e+00,  1.50695847e+00],\n",
       "       [-1.03509531e+00, -6.00192629e-01],\n",
       "       [-1.03059291e+00, -6.00192629e-01],\n",
       "       [ 3.49206794e+00,  4.53382921e-01],\n",
       "       [-4.47532107e-01, -6.00192629e-01],\n",
       "       [-1.41104572e+00, -6.00192629e-01],\n",
       "       [ 1.35793031e+00, -6.00192629e-01],\n",
       "       [-3.33846505e-01, -6.00192629e-01],\n",
       "       [ 1.47611831e+00, -6.00192629e-01],\n",
       "       [-2.13407304e-01, -6.00192629e-01],\n",
       "       [-5.97236908e-01, -6.00192629e-01],\n",
       "       [-1.14652971e+00, -6.00192629e-01],\n",
       "       [ 1.67084712e+00, -6.00192629e-01],\n",
       "       [ 1.67309832e+00,  1.50695847e+00],\n",
       "       [ 3.98919103e-01, -6.00192629e-01],\n",
       "       [ 2.87749033e+00,  4.53382921e-01],\n",
       "       [ 3.80909503e-01,  1.50695847e+00],\n",
       "       [ 2.33720232e+00, -6.00192629e-01],\n",
       "       [ 1.01760699e-01,  2.56053402e+00],\n",
       "       [ 1.25398300e-01,  4.53382921e-01],\n",
       "       [ 1.20147191e+00,  2.56053402e+00],\n",
       "       [-1.84141704e-01,  4.53382921e-01],\n",
       "       [ 3.73030302e-01,  4.53382921e-01],\n",
       "       [-4.61039307e-01, -6.00192629e-01],\n",
       "       [ 2.70789839e-03, -6.00192629e-01],\n",
       "       [ 9.74100709e-01, -6.00192629e-01],\n",
       "       [-4.84676907e-01, -6.00192629e-01],\n",
       "       [-3.60860906e-01, -6.00192629e-01],\n",
       "       [-1.37615212e+00, -6.00192629e-01],\n",
       "       [-1.06323531e+00, -6.00192629e-01],\n",
       "       [ 2.62535593e+00,  1.50695847e+00],\n",
       "       [-7.63825710e-01, -6.00192629e-01],\n",
       "       [-7.06420109e-01, -6.00192629e-01],\n",
       "       [-1.21108103e-01,  4.53382921e-01],\n",
       "       [-7.93091310e-01, -6.00192629e-01],\n",
       "       [-7.63825710e-01, -6.00192629e-01],\n",
       "       [-3.81121706e-01, -6.00192629e-01],\n",
       "       [ 8.37510993e-02,  1.50695847e+00],\n",
       "       [-3.73242506e-01,  4.53382921e-01],\n",
       "       [ 7.65864707e-01,  4.53382921e-01],\n",
       "       [ 2.13234312e+00,  1.50695847e+00],\n",
       "       [ 5.04725504e-01, -6.00192629e-01],\n",
       "       [-7.90840110e-01, -6.00192629e-01],\n",
       "       [ 1.15644791e+00,  4.53382921e-01],\n",
       "       [ 6.87072706e-01,  1.50695847e+00],\n",
       "       [ 3.21291913e+00,  1.50695847e+00],\n",
       "       [-7.33434510e-01, -6.00192629e-01],\n",
       "       [ 9.43709509e-01,  4.53382921e-01],\n",
       "       [-7.75081710e-01, -6.00192629e-01],\n",
       "       [ 9.41458309e-01,  2.56053402e+00],\n",
       "       [-9.22535312e-01, -6.00192629e-01],\n",
       "       [-1.35589132e+00, -6.00192629e-01],\n",
       "       [ 1.16545271e+00,  1.50695847e+00],\n",
       "       [-8.58376111e-01, -6.00192629e-01],\n",
       "       [-7.16550509e-01, -6.00192629e-01],\n",
       "       [-1.26134092e+00, -1.65376818e+00],\n",
       "       [-4.28396906e-01,  4.53382921e-01],\n",
       "       [-7.16550509e-01, -6.00192629e-01],\n",
       "       [-3.95754506e-01, -6.00192629e-01],\n",
       "       [-1.09137531e+00, -6.00192629e-01],\n",
       "       [ 7.47462992e-02,  1.50695847e+00],\n",
       "       [-7.32308910e-01, -6.00192629e-01],\n",
       "       [ 2.62721501e-01, -6.00192629e-01],\n",
       "       [ 4.75459904e-01,  1.50695847e+00],\n",
       "       [-4.61039307e-01,  4.53382921e-01],\n",
       "       [-9.20284112e-01, -6.00192629e-01],\n",
       "       [-1.01483451e+00, -6.00192629e-01],\n",
       "       [-4.79048907e-01, -6.00192629e-01],\n",
       "       [-1.09362651e+00, -6.00192629e-01],\n",
       "       [-8.08849711e-01, -6.00192629e-01],\n",
       "       [ 1.46823911e+00, -6.00192629e-01],\n",
       "       [ 1.80591912e+00,  4.53382921e-01],\n",
       "       [ 1.04051111e+00,  4.53382921e-01],\n",
       "       [ 8.32275107e-01, -6.00192629e-01],\n",
       "       [ 3.24629502e-01, -6.00192629e-01],\n",
       "       [-2.21286504e-01, -6.00192629e-01],\n",
       "       [-1.13228903e-01, -6.00192629e-01]])"
      ]
     },
     "execution_count": 40,
     "metadata": {},
     "output_type": "execute_result"
    }
   ],
   "source": [
    "s.transform(tips[['total_bill',\"size\"]])"
   ]
  },
  {
   "cell_type": "code",
   "execution_count": null,
   "id": "2608e35b-99d2-4c8d-bb49-9de9dce38fca",
   "metadata": {},
   "outputs": [],
   "source": []
  }
 ],
 "metadata": {
  "kernelspec": {
   "display_name": "Python 3 (ipykernel)",
   "language": "python",
   "name": "python3"
  },
  "language_info": {
   "codemirror_mode": {
    "name": "ipython",
    "version": 3
   },
   "file_extension": ".py",
   "mimetype": "text/x-python",
   "name": "python",
   "nbconvert_exporter": "python",
   "pygments_lexer": "ipython3",
   "version": "3.10.8"
  }
 },
 "nbformat": 4,
 "nbformat_minor": 5
}
